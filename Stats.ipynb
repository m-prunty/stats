{
 "cells": [
  {
   "cell_type": "code",
   "execution_count": 4,
   "metadata": {},
   "outputs": [
    {
     "name": "stdout",
     "output_type": "stream",
     "text": [
      "IPython console for SymPy 1.9 (Python 3.9.7-64-bit) (ground types: python)\n",
      "\n",
      "These commands were executed:\n",
      ">>> from __future__ import division\n",
      ">>> from sympy import *\n",
      ">>> x, y, z, t = symbols('x y z t')\n",
      ">>> k, m, n = symbols('k m n', integer=True)\n",
      ">>> f, g, h = symbols('f g h', cls=Function)\n",
      ">>> init_printing()\n",
      "\n",
      "Documentation can be found at https://docs.sympy.org/1.9/\n",
      "\n"
     ]
    }
   ],
   "source": [
    "import numpy as np\n",
    "import sympy as sym\n",
    "import matplotlib as plt\n",
    "from sympy import init_session\n",
    "init_session()\n",
    "a,b,c, p,q,r,s,t = symbols('a b c p q r s t', integer=True)\n",
    "\n",
    "μ,π,σ, λ= symbols('mu pi sigma lambda')\n",
    "\n",
    "arr = lambda x: np.array(x)\n",
    "rat  = lambda x : sym.Rational(x)\n",
    "fact = lambda x : sym.factorial(x)"
   ]
  },
  {
   "cell_type": "code",
   "execution_count": 5,
   "metadata": {},
   "outputs": [],
   "source": [
    "Ω = 10000\n",
    "#X = [5,25,100]\n",
    "X = arr(list(range(1,6)))\n",
    "nX = [200,20,5]\n",
    "#PX = get_X()#[r(0.14),r(0.19),r(0.26),]#6*[Rational(1,6)]\n",
    "fx = 2*exp(-2*x)\n",
    "#PX, X, fx\n"
   ]
  },
  {
   "cell_type": "code",
   "execution_count": 6,
   "metadata": {},
   "outputs": [],
   "source": [
    "get_nΩ = lambda: float(input('Enter size of Ω'))\n",
    "get_X =  lambda: [rat(i)  for i in input('data for X as list e.g prize money').split(',')]\n",
    "get_nX = lambda: arr([float(i)  for i in input('data for n of X as list e.g no of prizes(winning tickets)').split(',')])\n",
    "get_PX = lambda : [float(i) if i.isnumeric() ==True else sym.sympify(i) for i in input('input P(x) as float or fraction').split(',')]\n",
    "#Defines an inputted function fx \n",
    "get_fx =  lambda :  sym.parse_expr(input('Enter function'))\n",
    "\n",
    "#finds P(X=x) given length Ω and n of X \n",
    "PX_givΩX = lambda nX, Ω: [Rational(i, Ω) for i in nX]\n",
    "\n",
    "\n",
    "#finds P(X=x) given a function f(x)\n",
    "PX_givfx = lambda X :  [fx(i) for i in X] \n",
    "\n",
    "#F(x) = P(X≤x) = Σf(x)\n",
    "pmf = lambda fx: sum(fx)\n",
    "\n",
    "#F(x) = P(X≤x) = ∫f(x)dx\n",
    "pdf = lambda fx,a,b :sym.integrate(fx,(x,a,b))\n",
    "\n",
    "#n!/x!(n-x)!\n",
    "C = lambda n, x : fact(n) / (fact(x)*fact(n-x))\n",
    "\n",
    "#Σa<b f(x)\n",
    "Σ = lambda a, b, fx : sum([i*fx for i in range(a,b+1)])\n",
    "\n",
    "#E[X=x] = Σx*P(X=x) = Σx*f(x)\n",
    "E_Xdisc = lambda X, PX: sum(np.array(X)*np.array(PX)) \n",
    "\n",
    "E_Xcont = lambda X, fx,a,b: sym.integrate(X*fx,(x,a,b))\n",
    "\n",
    "E_XplusY = lambda X,PX,Y,PY : E_Xdisc(X,PX) + E_Xdisc(Y,PY)\n",
    "\n",
    "#var[x] = E[X**2] - (E[X])**2\n",
    "sqre = lambda X: [i**2 for i in X] if type(X) == list else X**2\n",
    "#D,C = 'D','C'\n",
    "Var_disc = lambda X, PX: E_Xdisc(arr(X)*arr(X),PX) - sqre(E_Xdisc(X,PX))  \n",
    "Var_cont = lambda X, fx,a,b: sym.integrate(sqre(X - E_Xcont(x,fx,a,b))*fx,(x,a,b))\n",
    "\n",
    "Xstd = lambda X, μ, σ: (X - μ )/ σ\n",
    "\n",
    "σ_var = lambda X, PX: sym.sqrt(Var_disc(X, PX))\n",
    "μ_np = lambda X,PX: len(X)*[E_Xdisc(X,PX)]\n",
    "μ_r =lambda X,PX,r: sum(((X-µ(X,PX))**r)*PX)\n",
    "\n",
    "# nCx * p^x * q^n-x\n",
    "Xbin = lambda p,n,x: C(n,x) * p**x * (1-p)**(n-x)\n",
    "Xbin_ab = lambda p,n,a,b: sum([Xbin(p,n,i) for i in range(a,b+1)])\n",
    "\n",
    "Xbin_μ = lambda p,n: n*p\n",
    "Xbin_var = lambda p,n : n*p*(1-p)\n",
    "Xbin_σ = lambda p,n: np.sqrt(Xbin_var(p,n)) #√n*p*(1-p))\n",
    "\n",
    "Xbin_stats = lambda p,n: print(f'μ = {Xbin_μ(p,n)},    σ = {Xbin_σ(p,n) },     var = σ^2 = {Xbin_var(p,n)}')\n",
    "\n",
    "# (λ^x * e^-k )/ k!\n",
    "Xpoi = lambda λ, x : ((λ**x) * exp(-λ)) / fact(x) if isinstance(x, (int, float, sym.Symbol) )  else sum([Xpoi(λ,i) for i in range(x[0],x[1]+1)])\n",
    "#Xpoi_ab = lambda λ,a,b: sum([Xpoi(λ,i) for i in range(a,b+1)]) \n",
    "\n",
    "Xpoi_stats = lambda λ :  print(f'μ = {λ},    σ = {sym.sqrt(λ)},     var = σ^2 = {λ}')\n",
    "\n",
    "# q^x * p\n",
    "Xgeo = lambda p, x: ((1-p)**(x-1))*p if isinstance(x, (int, float, sym.Symbol) )else sum([Xgeo(p,i) for i in range(x[0],x[1]+1)])\n",
    "Xgeo_stats = lambda p:  print(f'μ = {(1-p)/p},    σ = {sym.sqrt((1-p)/p**2)},     var = σ^2 = {(1-p)/p**2}')\n",
    "\n",
    "#(e^-(((x-μ)^2) / (2*σ^2)) ) / σ * 2 * √2π\n",
    "Xnorm = lambda μ, σ, a,b: round(sym.integrate((exp(-(1/2)*(((x-μ)**2) / (σ**2 )))  / (σ * sym.sqrt(2*np.pi))) , (x,a,b)),5)\n",
    "Z = lambda a,b : Xnorm(0,1,a,b)\n",
    "\n",
    "#M_xt\n",
    "\n",
    "\n",
    "\n",
    "#Least sqaures\n",
    "#lSquarVal = lambda X , Y : \n",
    "lSquarMat = lambda X,Y :  np.vstack(( #np.hstack(( \n",
    "                                   \n",
    "                                                X, Y, arr(\n",
    "                                                            np.around([[i[0]**2, i[0]*i[1] , i[1]**2 ] for i in list(zip(X,Y))], 3).T)\n",
    "                                                    ))\n",
    "                                        \n",
    "                                        #,arr([['X','Y','X^2','XY','Y^2']]).T\n",
    "                                    #))\n",
    "\n",
    "ΣSqr_mat = lambda X,Y :  np.around([sum(i) for i in lSquarMat(X,Y)], 3)\n"
   ]
  },
  {
   "cell_type": "code",
   "execution_count": 9,
   "metadata": {},
   "outputs": [
    {
     "data": {
      "image/png": "[encoded data removed]",
      "text/latex": [
       "$\\displaystyle \\left( 0.113322766345743, \\  0.061812418006769, \\  0.0224772429115524, \\  0.00408677143846407, \\  0.201699198702529\\right)$"
      ],
      "text/plain": [
       "(0.113322766345743, 0.061812418006769, 0.0224772429115524, 0.00408677143846407\n",
       ", 0.201699198702529)"
      ]
     },
     "execution_count": 9,
     "metadata": {},
     "output_type": "execute_result"
    }
   ],
   "source": [
    "Xpoi(5.5,3), Xpoi(5.5,2), Xpoi(5.5,1), Xpoi(5.5,0), Xpoi(5.5,3)+Xpoi(5.5,2)+Xpoi(5.5,1)+Xpoi(5.5,0)"
   ]
  },
  {
   "cell_type": "code",
   "execution_count": 12,
   "metadata": {},
   "outputs": [
    {
     "data": {
      "image/png": "[encoded data removed]",
      "text/latex": [
       "$\\displaystyle \\lambda$"
      ],
      "text/plain": [
       "λ"
      ]
     },
     "execution_count": 12,
     "metadata": {},
     "output_type": "execute_result"
    }
   ],
   "source": [
    "λ"
   ]
  },
  {
   "cell_type": "code",
   "execution_count": 13,
   "metadata": {},
   "outputs": [],
   "source": [
    "#sym.integrate(λ**x) * exp(-λ)"
   ]
  },
  {
   "cell_type": "code",
   "execution_count": 14,
   "metadata": {},
   "outputs": [
    {
     "data": {
      "text/plain": [
       "(array([[  1.   ,   2.   ,   3.   ,   5.   ],\n",
       "        [  2.99 ,   5.82 ,   9.14 ,  15.12 ],\n",
       "        [  1.   ,   4.   ,   9.   ,  25.   ],\n",
       "        [  2.99 ,  11.64 ,  27.42 ,  75.6  ],\n",
       "        [  8.94 ,  33.872,  83.54 , 228.614]]),\n",
       " array([ 11.   ,  33.07 ,  39.   , 117.65 , 354.966]))"
      ]
     },
     "execution_count": 14,
     "metadata": {},
     "output_type": "execute_result"
    }
   ],
   "source": [
    "#2.1,2.7,3.1,3.2,3.6,4.2\n",
    "#1.6,1.8,2.4,2.5,2.7,3.1\n",
    "#4.7,4.8,4.9,5.0,5.1]\n",
    "#1.2,1.4,1.5,1.5,1.7\n",
    "X = arr([1,2,3,5])\n",
    "Y = arr([2.99,5.82,9.14,15.12])\n",
    "\n",
    "arr(['X','Y','X^2','XY','Y^2']).T\n",
    "X,Y, list(zip(X,Y)), \n",
    "#print(lSquarVal(X,Y)) ,\n",
    "lSquarMat(X,Y),ΣSqr_mat(X,Y)#arr((X,Y))"
   ]
  },
  {
   "cell_type": "code",
   "execution_count": 15,
   "metadata": {},
   "outputs": [
    {
     "name": "stdout",
     "output_type": "stream",
     "text": [
      "Σx=11.0  ,Σx2=39.0  ,Σxy=117.65  ,\n",
      "xbar=2.75  ,ybar=8.2675, \n",
      "Σy2=354.966  ,Σy=33.07,\n",
      "β0=-0.126  , β1=3.052  \n"
     ]
    }
   ],
   "source": [
    "Σx ,Σy,Σx2, Σxy, Σy2 = ΣSqr_mat(X,Y)\n",
    "xbar = Σx / len(X)\n",
    "ybar = Σy / len(Y)\n",
    "\n",
    "β1 = round((Σxy - ybar * Σx )/ (Σx2 - xbar *Σx),3)\n",
    "β0 = round((ybar - β1 * xbar),3)\n",
    "\n",
    "line_yValues = lambda β0, β1 ,x: β0 + β1* x\n",
    "\n",
    "\n",
    "Δy = Y -line_yValues(β0, β1 ,X)\n",
    "d = lambda  Δy: np.sqrt(Δy**2)\n",
    "\n",
    "#y_valLine = \n",
    "\n",
    "Σsqr_ε = sum(d(Δy)**2)\n",
    "print(f'Σx={Σx}  ,Σx2={Σx2}  ,Σxy={Σxy}  ,\\nxbar={xbar}  ,ybar={ybar}, \\nΣy2={Σy2}  ,Σy={Σy},\\nβ0={β0}  , β1={β1}  ')\n",
    "#X,Y,Σx,Σy,Σxy,Σx2, xbar, ybar, β0, β1,Δy, d(Δy),Σsqr_ε\n"
   ]
  },
  {
   "cell_type": "code",
   "execution_count": 16,
   "metadata": {},
   "outputs": [
    {
     "data": {
      "image/png": "[encoded data removed]",
      "text/latex": [
       "$\\displaystyle \\left( 81.559775, \\  8.75, \\  81.50366, \\  0.0561149999999913, \\  0.0280574999999956, \\  53.8969351837825\\right)$"
      ],
      "text/plain": [
       "(81.559775, 8.75, 81.50366000000001, 0.056114999999991255, 0.02805749999999562\n",
       "8, 53.89693518378253)"
      ]
     },
     "execution_count": 16,
     "metadata": {},
     "output_type": "execute_result"
    }
   ],
   "source": [
    "SSt = Σy2 - len(Y)*ybar**2\n",
    "SSx = sum([(i - xbar)**2 for i in X])\n",
    "SSr = β1**2 * SSx\n",
    "SSe = SSt-SSr\n",
    "MSe = SSe/(len(X)-2)\n",
    "To = np.sqrt(SSr/MSe)\n",
    "\n",
    "SSt, SSx, SSr, SSe, MSe,To"
   ]
  },
  {
   "cell_type": "code",
   "execution_count": 17,
   "metadata": {},
   "outputs": [
    {
     "data": {
      "image/png": "[encoded data removed]",
      "text/latex": [
       "$\\displaystyle \\left[ 3.0625, \\  0.5625, \\  0.0625, \\  5.0625\\right]$"
      ],
      "text/plain": [
       "[3.0625, 0.5625, 0.0625, 5.0625]"
      ]
     },
     "execution_count": 17,
     "metadata": {},
     "output_type": "execute_result"
    }
   ],
   "source": [
    "[(i - xbar)**2 for i in X]"
   ]
  },
  {
   "cell_type": "code",
   "execution_count": 18,
   "metadata": {},
   "outputs": [
    {
     "data": {
      "image/png": "[encoded data removed]",
      "text/latex": [
       "$\\displaystyle 0.46017$"
      ],
      "text/plain": [
       "0.46017"
      ]
     },
     "execution_count": 18,
     "metadata": {},
     "output_type": "execute_result"
    }
   ],
   "source": [
    "#(Xnorm(150,40,120,190)).evalf(), \n",
    "Xnorm(0,1,1,.3)\n",
    "Xnorm(72,4,71,75)# Xnorm(75,7,96,1000)\n",
    "Xnorm(72,4,69.32,-oo)\n",
    "Xnorm(21,7,12.02838,29.97162)\n",
    "Z(0.1,oo)\n"
   ]
  },
  {
   "cell_type": "code",
   "execution_count": 19,
   "metadata": {},
   "outputs": [
    {
     "name": "stdout",
     "output_type": "stream",
     "text": [
      "μ = 0.8,    σ = 0.8,     var = σ^2 = 0.6400000000000001\n"
     ]
    },
    {
     "data": {
      "image/png": "[encoded data removed]",
      "text/latex": [
       "$\\displaystyle 0.9375$"
      ],
      "text/plain": [
       "0.9375"
      ]
     },
     "execution_count": 19,
     "metadata": {},
     "output_type": "execute_result"
    }
   ],
   "source": [
    "Xbin_ab(0.15,10,2,3)\n",
    "Xbin(0.2,15,3),Xbin_ab(0.2,15,3,15)\n",
    "Xbin_ab(0.2,4,0,1),Xbin_ab(0.2,4,0,4)\n",
    "Xbin_stats(0.2,4)\n",
    "\n",
    "#Xbin(0.15,10,5)\n",
    "Xpoi(4,2), N(Xpoi(4,2))\n",
    "#Xpoi_ab(4,0,1),N(Xpoi_ab(4,0,1))\n",
    "\n",
    "#[N(i) for i in [Xpoi(4,3),Xpoi(4,2),Xpoi(4,1),Xpoi(4,0)]] \n",
    "[[N(i+j) for j in reversed([Xpoi(4,3),Xpoi(4,2),Xpoi(4,1),Xpoi(4,0)])] for i in [Xpoi(4,3),Xpoi(4,2),Xpoi(4,1),Xpoi(4,0)]] \n",
    "[N(j) for j in reversed([Xpoi(4,3),Xpoi(4,2),Xpoi(4,1),Xpoi(4,0)])]\n",
    "Xpoi(3.3, 1 )\n",
    "Xpoi(3.3, (1,30 )), #Xpoi_ab(3.3,1,30)\n",
    "N(Xpoi(8,3))\n",
    "Xpoi(6.5,9)\n",
    "Xpoi(6.5,(0,3))\n",
    "\n",
    "p=.75\n",
    "sum([Xgeo(p, 1),Xgeo(p, 2), Xgeo(p, 3)])#, Xgeo(p, 0 )])\n",
    "#Xgeo_stats(p)\n",
    "\n",
    "#((1-p)**x)*p, Xgeo(.75, 1)\n",
    "Xgeo(p,(1,2))"
   ]
  },
  {
   "cell_type": "code",
   "execution_count": 20,
   "metadata": {},
   "outputs": [
    {
     "data": {
      "text/plain": [
       "(11, 33.07, 117.65, 39)"
      ]
     },
     "execution_count": 20,
     "metadata": {},
     "output_type": "execute_result"
    }
   ],
   "source": [
    "'''X=get_nX()#5.1,4.9,4.7,4.6,5,5.4\n",
    "Y=get_nX()#1.4,1.4,1.3,1.5,1.4,1.7'''\n",
    "#2.1,2.7,3.1,3.2,3.6,4.2\n",
    "#1.6,1.8,2.4,2.5,2.7,3.1\n",
    "Σx = sum(X)\n",
    "Σy = sum(Y)\n",
    "Σxy = np.dot(X,Y)\n",
    "Σx2 = sum(sqre(X))\n",
    "xbar = Σx / len(X)\n",
    "ybar = Σy / len(Y)\n",
    "X,Y,\n",
    "Σx,Σy,Σxy,Σx2, #xbar, ybar, β0, β1,Δy, d(Δy),Σsqr_ε"
   ]
  },
  {
   "cell_type": "code",
   "execution_count": 21,
   "metadata": {},
   "outputs": [
    {
     "data": {
      "text/plain": [
       "array([  8.9401,  33.8724,  83.5396, 228.6144])"
      ]
     },
     "execution_count": 21,
     "metadata": {},
     "output_type": "execute_result"
    }
   ],
   "source": [
    "Y**2"
   ]
  },
  {
   "cell_type": "code",
   "execution_count": 22,
   "metadata": {},
   "outputs": [
    {
     "name": "stderr",
     "output_type": "stream",
     "text": [
      "QSocketNotifier: Can only be used with threads started with QThread\n",
      "qt.qpa.wayland: Wayland does not support QWindow::requestActivate()\n"
     ]
    }
   ],
   "source": [
    "line_x = np.linspace(min(X),max(X),100)\n",
    "\n",
    "#y = map(line_y(β0,β1, line_x), line_x)\n",
    "#line_y(β0,β1, line_x)\n",
    "plt.scatter(X,Y)\n",
    "plt.plot(line_x,line_yValues(β0,β1, line_x))\n",
    "plt.show()"
   ]
  },
  {
   "cell_type": "code",
   "execution_count": 25,
   "metadata": {},
   "outputs": [
    {
     "data": {
      "image/png": "[encoded data removed]",
      "text/latex": [
       "$\\displaystyle \\left( \\left[ 5, \\  25, \\  100\\right], \\  \\left[ 5, \\  25, \\  100\\right], \\  2 e^{- 2 x}\\right)$"
      ],
      "text/plain": [
       "⎛                               -2⋅x⎞\n",
       "⎝[5, 25, 100], [5, 25, 100], 2⋅ℯ    ⎠"
      ]
     },
     "execution_count": 25,
     "metadata": {},
     "output_type": "execute_result"
    }
   ],
   "source": [
    "Ω = 10000\n",
    "#X = [5,25,100]\n",
    "X = get_X()#[-1,0,1/2,1]#arr(list(range(1,6)))\n",
    "nX = [200,20,5]\n",
    "PX = get_X()#[r(0.14),r(0.19),r(0.26),]#6*[Rational(1,6)]\n",
    "fx = 2*exp(-2*x)\n",
    "PX, X, fx"
   ]
  },
  {
   "cell_type": "code",
   "execution_count": 26,
   "metadata": {},
   "outputs": [
    {
     "data": {
      "image/png": "[encoded data removed]",
      "text/latex": [
       "$\\displaystyle a \\left(1 - a\\right)^{x - 1}$"
      ],
      "text/plain": [
       "         x - 1\n",
       "a⋅(1 - a)     "
      ]
     },
     "execution_count": 26,
     "metadata": {},
     "output_type": "execute_result"
    }
   ],
   "source": [
    "((1-a)**(x-1))*a"
   ]
  },
  {
   "cell_type": "code",
   "execution_count": 27,
   "metadata": {},
   "outputs": [
    {
     "data": {
      "image/png": "[encoded data removed]",
      "text/latex": [
       "$\\displaystyle 0.64$"
      ],
      "text/plain": [
       "0.6400000000000001"
      ]
     },
     "execution_count": 27,
     "metadata": {},
     "output_type": "execute_result"
    }
   ],
   "source": [
    "4*0.2*(1-0.2)#sqrt(0.8**2)"
   ]
  },
  {
   "cell_type": "code",
   "execution_count": 28,
   "metadata": {},
   "outputs": [
    {
     "data": {
      "image/png": "[encoded data removed]",
      "text/latex": [
       "$\\displaystyle \\left( 3628800, \\  6, \\  5040, \\  120\\right)$"
      ],
      "text/plain": [
       "(3628800, 6, 5040, 120)"
      ]
     },
     "execution_count": 28,
     "metadata": {},
     "output_type": "execute_result"
    }
   ],
   "source": [
    "\n",
    "n, x = 10 , 3\n",
    "fact(n), fact(x) , fact(n-x) ,C(10,3)"
   ]
  },
  {
   "cell_type": "code",
   "execution_count": 29,
   "metadata": {},
   "outputs": [
    {
     "data": {
      "image/png": "[encoded data removed]",
      "text/latex": [
       "$\\displaystyle \\left[ 5, \\  25, \\  100\\right]$"
      ],
      "text/plain": [
       "[5, 25, 100]"
      ]
     },
     "execution_count": 29,
     "metadata": {},
     "output_type": "execute_result"
    }
   ],
   "source": [
    "X = get_X();X"
   ]
  },
  {
   "cell_type": "code",
   "execution_count": 30,
   "metadata": {},
   "outputs": [
    {
     "ename": "TypeError",
     "evalue": "'Symbol' object is not callable",
     "output_type": "error",
     "traceback": [
      "\u001b[0;31m---------------------------------------------------------------------------\u001b[0m",
      "\u001b[0;31mTypeError\u001b[0m                                 Traceback (most recent call last)",
      "\u001b[1;32m/home/potz/Code/Stats/Stats.ipynb Cell 21'\u001b[0m in \u001b[0;36m<module>\u001b[0;34m\u001b[0m\n\u001b[0;32m----> <a href='vscode-notebook-cell:/home/potz/Code/Stats/Stats.ipynb#ch0000019?line=0'>1</a>\u001b[0m μ_r(X,\u001b[39m1\u001b[39;49m\u001b[39m/\u001b[39;49m\u001b[39m3\u001b[39;49m,r)\n",
      "\u001b[1;32m/home/potz/Code/Stats/Stats.ipynb Cell 3'\u001b[0m in \u001b[0;36m<lambda>\u001b[0;34m(X, PX, r)\u001b[0m\n\u001b[1;32m     <a href='vscode-notebook-cell:/home/potz/Code/Stats/Stats.ipynb#ch0000002?line=41'>42</a>\u001b[0m σ_var \u001b[39m=\u001b[39m \u001b[39mlambda\u001b[39;00m X, PX: sym\u001b[39m.\u001b[39msqrt(Var_disc(X, PX))\n\u001b[1;32m     <a href='vscode-notebook-cell:/home/potz/Code/Stats/Stats.ipynb#ch0000002?line=42'>43</a>\u001b[0m μ_np \u001b[39m=\u001b[39m \u001b[39mlambda\u001b[39;00m X,PX: \u001b[39mlen\u001b[39m(X)\u001b[39m*\u001b[39m[E_Xdisc(X,PX)]\n\u001b[0;32m---> <a href='vscode-notebook-cell:/home/potz/Code/Stats/Stats.ipynb#ch0000002?line=43'>44</a>\u001b[0m μ_r \u001b[39m=\u001b[39m\u001b[39mlambda\u001b[39;00m X,PX,r: \u001b[39msum\u001b[39m(((X\u001b[39m-\u001b[39mµ(X,PX))\u001b[39m*\u001b[39m\u001b[39m*\u001b[39mr)\u001b[39m*\u001b[39mPX)\n\u001b[1;32m     <a href='vscode-notebook-cell:/home/potz/Code/Stats/Stats.ipynb#ch0000002?line=45'>46</a>\u001b[0m \u001b[39m# nCx * p^x * q^n-x\u001b[39;00m\n\u001b[1;32m     <a href='vscode-notebook-cell:/home/potz/Code/Stats/Stats.ipynb#ch0000002?line=46'>47</a>\u001b[0m Xbin \u001b[39m=\u001b[39m \u001b[39mlambda\u001b[39;00m p,n,x: C(n,x) \u001b[39m*\u001b[39m p\u001b[39m*\u001b[39m\u001b[39m*\u001b[39mx \u001b[39m*\u001b[39m (\u001b[39m1\u001b[39m\u001b[39m-\u001b[39mp)\u001b[39m*\u001b[39m\u001b[39m*\u001b[39m(n\u001b[39m-\u001b[39mx)\n",
      "\u001b[0;31mTypeError\u001b[0m: 'Symbol' object is not callable"
     ]
    }
   ],
   "source": [
    "μ_r(X,1/3,r)"
   ]
  },
  {
   "cell_type": "code",
   "execution_count": null,
   "metadata": {},
   "outputs": [
    {
     "ename": "TypeError",
     "evalue": "'Symbol' object is not iterable",
     "output_type": "error",
     "traceback": [
      "\u001b[0;31m---------------------------------------------------------------------------\u001b[0m",
      "\u001b[0;31mTypeError\u001b[0m                                 Traceback (most recent call last)",
      "\u001b[0;32m<ipython-input-23-15935cee3486>\u001b[0m in \u001b[0;36m<module>\u001b[0;34m\u001b[0m\n\u001b[0;32m----> 1\u001b[0;31m \u001b[0miter\u001b[0m\u001b[0;34m(\u001b[0m\u001b[0mx\u001b[0m\u001b[0;34m)\u001b[0m \u001b[0;34m==\u001b[0m \u001b[0;32mTrue\u001b[0m\u001b[0;34m\u001b[0m\u001b[0;34m\u001b[0m\u001b[0m\n\u001b[0m\u001b[1;32m      2\u001b[0m \u001b[0;31m#sym.integrate(sqre(x - E_Xcont(x,fx,a,b))*fx,(x,a,b))\u001b[0m\u001b[0;34m\u001b[0m\u001b[0;34m\u001b[0m\u001b[0;34m\u001b[0m\u001b[0m\n\u001b[1;32m      3\u001b[0m \u001b[0;31m#Var_cont(x,fx,0,oo)\u001b[0m\u001b[0;34m\u001b[0m\u001b[0;34m\u001b[0m\u001b[0;34m\u001b[0m\u001b[0m\n\u001b[1;32m      4\u001b[0m \u001b[0;31m#Xstd (78,72,4)\u001b[0m\u001b[0;34m\u001b[0m\u001b[0;34m\u001b[0m\u001b[0;34m\u001b[0m\u001b[0m\n",
      "\u001b[0;31mTypeError\u001b[0m: 'Symbol' object is not iterable"
     ]
    }
   ],
   "source": [
    "iter(x) == True\n",
    "#sym.integrate(sqre(x - E_Xcont(x,fx,a,b))*fx,(x,a,b))\n",
    "#Var_cont(x,fx,0,oo)\n",
    "#Xstd (78,72,4)"
   ]
  },
  {
   "cell_type": "code",
   "execution_count": null,
   "metadata": {},
   "outputs": [
    {
     "data": {
      "image/png": "[encoded data removed]",
      "text/latex": [
       "$\\displaystyle \\left( \\left[ -1, \\  0, \\  0.5, \\  1\\right], \\  \\left[ 1, \\  0, \\  0.25, \\  1\\right], \\  x^{2}\\right)$"
      ],
      "text/plain": [
       "⎛                                   2⎞\n",
       "⎝[-1, 0, 0.5, 1], [1, 0, 0.25, 1], x ⎠"
      ]
     },
     "execution_count": 26,
     "metadata": {},
     "output_type": "execute_result"
    }
   ],
   "source": [
    "X,sqre(X),sqre(x)"
   ]
  },
  {
   "cell_type": "code",
   "execution_count": null,
   "metadata": {},
   "outputs": [
    {
     "data": {
      "text/plain": [
       "array([-2.14, -1.14, -0.14,  0.86,  1.86])"
      ]
     },
     "execution_count": 70,
     "metadata": {},
     "output_type": "execute_result"
    }
   ],
   "source": [
    "(X-µ(X,PX))**2+"
   ]
  },
  {
   "cell_type": "code",
   "execution_count": null,
   "metadata": {},
   "outputs": [
    {
     "data": {
      "image/png": "[encoded data removed]",
      "text/latex": [
       "$\\displaystyle \\left( \\frac{11}{16}, \\  \\frac{7}{16}, \\  \\frac{\\sqrt{7}}{4}, \\  \\infty\\right)$"
      ],
      "text/plain": [
       "⎛11        √7   ⎞\n",
       "⎜──, 7/16, ──, ∞⎟\n",
       "⎝16        4    ⎠"
      ]
     },
     "execution_count": 30,
     "metadata": {},
     "output_type": "execute_result"
    }
   ],
   "source": [
    "\n",
    "#PXgivfx(X())\n",
    "#EXdisc(X(),PXgivΩX(X()))\n",
    "\n",
    "#E_XplusY(list(range(1,7)),PX,list(range(1,7)),PX)\n",
    "E_Xdisc(sqre(X), PX),Var_disc(X,PX), σ(X,PX),oo\n",
    "#?sym.integrate\n",
    "#X\n",
    "#fx = get_fx()\n",
    "#fx"
   ]
  },
  {
   "cell_type": "code",
   "execution_count": null,
   "metadata": {},
   "outputs": [
    {
     "data": {
      "text/plain": [
       "<function _lambdifygenerated(x)>"
      ]
     },
     "execution_count": 21,
     "metadata": {},
     "output_type": "execute_result"
    }
   ],
   "source": [
    "fx"
   ]
  },
  {
   "cell_type": "code",
   "execution_count": null,
   "metadata": {},
   "outputs": [
    {
     "data": {
      "image/png": "[encoded data removed]",
      "text/latex": [
       "$\\displaystyle \\frac{3}{5}$"
      ],
      "text/plain": [
       "3/5"
      ]
     },
     "execution_count": 49,
     "metadata": {},
     "output_type": "execute_result"
    }
   ],
   "source": [
    "list(range(1,7))\n",
    "sym.sympify(X)\n",
    "Rational(3,5)\n"
   ]
  },
  {
   "cell_type": "code",
   "execution_count": null,
   "metadata": {},
   "outputs": [
    {
     "data": {
      "image/png": "[encoded data removed]",
      "text/latex": [
       "$\\displaystyle \\left[ \\frac{1}{6}, \\  \\frac{1}{6}, \\  \\frac{1}{6}, \\  \\frac{1}{6}, \\  \\frac{1}{6}, \\  \\frac{1}{6}\\right]$"
      ],
      "text/plain": [
       "[1/6, 1/6, 1/6, 1/6, 1/6, 1/6]"
      ]
     },
     "execution_count": 40,
     "metadata": {},
     "output_type": "execute_result"
    }
   ],
   "source": [
    "[i for i in PX]"
   ]
  },
  {
   "cell_type": "code",
   "execution_count": null,
   "metadata": {},
   "outputs": [
    {
     "ename": "TypeError",
     "evalue": "<lambda>() missing 2 required positional arguments: 'X' and 'PX'",
     "output_type": "error",
     "traceback": [
      "\u001b[0;31m---------------------------------------------------------------------------\u001b[0m",
      "\u001b[0;31mTypeError\u001b[0m                                 Traceback (most recent call last)",
      "\u001b[0;32m<ipython-input-107-62195ef12b13>\u001b[0m in \u001b[0;36m<module>\u001b[0;34m\u001b[0m\n\u001b[0;32m----> 1\u001b[0;31m \u001b[0mEXdisc\u001b[0m\u001b[0;34m(\u001b[0m\u001b[0;34m)\u001b[0m\u001b[0;34m\u001b[0m\u001b[0;34m\u001b[0m\u001b[0m\n\u001b[0m\u001b[1;32m      2\u001b[0m \u001b[0;31m#mom = lambda X :\u001b[0m\u001b[0;34m\u001b[0m\u001b[0;34m\u001b[0m\u001b[0;34m\u001b[0m\u001b[0m\n",
      "\u001b[0;31mTypeError\u001b[0m: <lambda>() missing 2 required positional arguments: 'X' and 'PX'"
     ]
    }
   ],
   "source": [
    "EXdisc()\n",
    "#mom = lambda X :"
   ]
  },
  {
   "cell_type": "code",
   "execution_count": null,
   "metadata": {},
   "outputs": [
    {
     "data": {
      "text/plain": [
       "10000"
      ]
     },
     "execution_count": 12,
     "metadata": {},
     "output_type": "execute_result"
    }
   ],
   "source": [
    "sizeΩ"
   ]
  },
  {
   "cell_type": "code",
   "execution_count": null,
   "metadata": {},
   "outputs": [
    {
     "ename": "TypeError",
     "evalue": "'list' object is not callable",
     "output_type": "error",
     "traceback": [
      "\u001b[0;31m---------------------------------------------------------------------------\u001b[0m",
      "\u001b[0;31mTypeError\u001b[0m                                 Traceback (most recent call last)",
      "\u001b[0;32m<ipython-input-14-3ef1c0032aa1>\u001b[0m in \u001b[0;36m<module>\u001b[0;34m\u001b[0m\n\u001b[0;32m----> 1\u001b[0;31m \u001b[0mPX\u001b[0m\u001b[0;34m(\u001b[0m\u001b[0;34m)\u001b[0m\u001b[0;34m\u001b[0m\u001b[0;34m\u001b[0m\u001b[0m\n\u001b[0m",
      "\u001b[0;31mTypeError\u001b[0m: 'list' object is not callable"
     ]
    }
   ],
   "source": [
    "PX()"
   ]
  },
  {
   "cell_type": "code",
   "execution_count": null,
   "metadata": {},
   "outputs": [],
   "source": []
  }
 ],
 "metadata": {
  "interpreter": {
   "hash": "64865580939b03588026cf20edba9cae1ed0db66aab5d5aa771efbf8c03b4750"
  },
  "kernelspec": {
   "display_name": "Python 3.8.8 64-bit ('base': conda)",
   "name": "python3"
  },
  "language_info": {
   "codemirror_mode": {
    "name": "ipython",
    "version": 3
   },
   "file_extension": ".py",
   "mimetype": "text/x-python",
   "name": "python",
   "nbconvert_exporter": "python",
   "pygments_lexer": "ipython3",
   "version": "3.9.7"
  },
  "orig_nbformat": 4
 },
 "nbformat": 4,
 "nbformat_minor": 2
}
